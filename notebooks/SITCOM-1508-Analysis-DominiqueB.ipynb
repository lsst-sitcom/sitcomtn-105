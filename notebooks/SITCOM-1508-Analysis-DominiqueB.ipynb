{
 "cells": [
  {
   "cell_type": "markdown",
   "id": "55b18e63-e096-48b5-bf77-a6c8d7b9ba4a",
   "metadata": {},
   "source": [
    "# Compare TMA balancing data from previous events with the next events\n",
    "\n",
    "We are getting ready to balance the telescope twice in the next weeks. First, we will balance the telescope with ComCam and M2 Glass. The M2 Glass and M2 Surrogate have similar weights, with a small difference. We expect the torques applied by the elevation drives will be very close to the previous balancing event(s). A couple of weeks later, we will repeat the procedure with ComCam, M2 Glass, and M1M3 Glass. The M1M3 Glass and M1M3 Cell assembly is much heavier than the M1M3 Mass Simulator (yellow cross) and hundreds of kilograms heavier than the M1M3 Surrogate and M1M3 Cell configuration. This procedure will be much more delicate due to the size and mass of the mirror.\n",
    "\n",
    "We want to establish a baseline before we start the procedure, and we need someone to review the data to determine whether we can proceed quickly.\n",
    "\n",
    "The links below point to old night logs that might contain useful information. Feel free to unlink them if they are not useful.\n",
    "\n",
    "Here is an approximate timeline of different integration phases where we needed to re-balance the telescope. We do not necessarily need the whole process. We need the torques once the telescope is already balanced as a baseline.\n",
    "\n",
    "May to Aug 2023 - M1M3 Surrogate and M1M3 Cell on the TMA\n",
    "\n",
    "Nov 2023 to Jan 2024 - M1M3 Surrogate and Cell, M2 Surrogate and Cell on the TMA\n",
    "\n",
    "Feb to Apr 2024 - M2 Surrogate and Cell on the TMA"
   ]
  },
  {
   "cell_type": "markdown",
   "id": "4e3079ce-305c-4ed5-a96a-8572f0a05eb4",
   "metadata": {},
   "source": [
    "## Setup notebook\n",
    "\n",
    "Note that we have to `pip install DateTimeRange` in order to easily find the overlap between 2 time ranges"
   ]
  },
  {
   "cell_type": "code",
   "execution_count": null,
   "id": "25c2f0c9-7f58-43f5-8747-50c4f4e78ba7",
   "metadata": {},
   "outputs": [],
   "source": [
    "# Notebook extensions for formatting and auto-reload libraries\n",
    "%matplotlib inline\n",
    "%load_ext lab_black\n",
    "%load_ext autoreload\n",
    "%autoreload 2\n",
    "\n",
    "# Standard Python Libraries\n",
    "import os\n",
    "import sys\n",
    "\n",
    "from astropy.time import Time\n",
    "\n",
    "from lsst_efd_client import EfdClient\n",
    "\n",
    "module_path = os.path.abspath(os.path.join(\"..\"))\n",
    "if module_path not in sys.path:\n",
    "    sys.path.append(module_path + \"/python\")\n",
    "\n",
    "# Import utility functions from the python directory\n",
    "from utils import *"
   ]
  },
  {
   "cell_type": "markdown",
   "id": "cbd5ce9f-0e93-45a1-943e-3f6f1acc95c4",
   "metadata": {},
   "source": [
    "## Identify time periods with telemetry and where the TMA is still\n",
    "\n",
    "In order to do that we will check the \"lsst.sal.MTMount.logevent_elevationMotionState\" and \"lsst.sal.MTMount.logevent_azimuthMotionState\" topics and select time ranges where\n",
    "the `state` is equal to 1, meaning that the TMA is `stopped`\n",
    "\n",
    "Once we have the time ranges in both azimuth and elevation we select the overlaps between both sets."
   ]
  },
  {
   "cell_type": "code",
   "execution_count": null,
   "id": "5e530df5-8380-4d28-b7e5-16e9b6f57743",
   "metadata": {},
   "outputs": [],
   "source": [
    "# Create a directory to save plots\n",
    "plot_dir = \"./plots\"\n",
    "if not os.path.exists(plot_dir):\n",
    "    os.makedirs(plot_dir)"
   ]
  },
  {
   "cell_type": "markdown",
   "id": "dac61fc8-75ec-46af-84d2-f3adbbbeffa2",
   "metadata": {},
   "source": [
    "## Dates with interesting data\n",
    "\n",
    "The most interesting data for this analysis are those from BLOCK-177 https://rubinobs.atlassian.net/browse/BLOCK-177\n",
    "initially designed for laser tracker tests.\n",
    "The TMA is still on the azimuth axis and the elevation increase and decrease by steps of 5 (or 10 ?) degrees\n",
    "\n",
    "May to Aug 2023 - M1M3 Surrogate and M1M3 Cell on the TMA\n",
    "\n",
    "* 2023-06-22\n",
    "\n",
    "Nov 2023 to Jan 2024 - M1M3 Surrogate and Cell, M2 Surrogate and Cell on the TMA\n",
    "\n",
    "* 2024-01-06 - Az: 59.6 deg - Block 177 between 09:00 and 10:00\n",
    "* 2024-01-09 - Az: 59.6 deg\n",
    "* 2024-01-10 - Az: 60.3 deg\n",
    "* 2024-01-12 - Az: 0 deg\n",
    "\n",
    "Feb to Apr 2024 - M2 Surrogate and Cell on the TMA\n",
    "\n",
    " * 2024-03-28\n",
    "\n",
    "Coarse balance with Yellow cross - M2+Cell and ComCam on TMA \n",
    "\n",
    "* 2024-09-03 14:30 - 16:00"
   ]
  },
  {
   "cell_type": "code",
   "execution_count": null,
   "id": "5ff08ffa-245c-4627-a257-99eab817e6f0",
   "metadata": {},
   "outputs": [],
   "source": [
    "# Define the time period that we are going to investigate\n",
    "\n",
    "# date_dict = {\n",
    "#    \"date\": \"2024-01-06\",\n",
    "#    \"start_time\": \"09:00:00.00\",\n",
    "#    \"end_time\": \"10:00:00.00\",\n",
    "# }\n",
    "date_dict = {\n",
    "    \"date\": \"2024-09-03\",\n",
    "    \"start_time\": \"14:30:00.00\",\n",
    "    \"end_time\": \"16:00:00.00\",\n",
    "}\n",
    "# date_dict = {\n",
    "#    \"date\": \"2024-01-03\",\n",
    "#    \"start_time\": \"08:30:00.00\",\n",
    "#    \"end_time\": \"09:30:00.00\",\n",
    "# }\n",
    "\n",
    "date = date_dict[\"date\"]\n",
    "start_time = Time(f\"{date} {date_dict['start_time']}\")\n",
    "end_time = Time(f\"{date} {date_dict['end_time']}\")\n",
    "\n",
    "# Select the EFD server and initialize EFD client\n",
    "# summit_efd contains the most recent data\n",
    "# usdf_efd contains older / archived data\n",
    "\n",
    "# client = EfdClient(\"summit_efd\")\n",
    "client = EfdClient(\"usdf_efd\")"
   ]
  },
  {
   "cell_type": "code",
   "execution_count": null,
   "id": "f64c9529-866d-4af4-af33-2c0a79f9ddef",
   "metadata": {},
   "outputs": [],
   "source": [
    "# Get all time ranges where the TMA is still in azimuth and in elevation\n",
    "t_range_azi = await get_time_range_by_axis(client, \"azimuth\", start_time, end_time)\n",
    "t_range_ele = await get_time_range_by_axis(client, \"elevation\", start_time, end_time)\n",
    "\n",
    "# Find the overlaps between the 2 sets of time ranges\n",
    "# We want data spanning over a minimum amount of time during the overlap period\n",
    "# min_delta is in seconds\n",
    "min_delta = 20\n",
    "overlaps = get_overlaps(t_range_azi, t_range_ele, min_delta)\n",
    "print(\n",
    "    f\"We found {len(overlaps)} time periods where the TMA is still in both azimuth and elevation\"\n",
    ")"
   ]
  },
  {
   "cell_type": "markdown",
   "id": "355a7ad0-2d6e-43d7-9d91-e9da275da659",
   "metadata": {},
   "source": [
    "# Torque versus Elevation Angle"
   ]
  },
  {
   "cell_type": "code",
   "execution_count": null,
   "id": "2ded4187-4d5c-4f33-8492-693c0363db67",
   "metadata": {},
   "outputs": [],
   "source": [
    "# We are going to plot the Torque as a function of the elevation angle for a given position of the TMA in azimuth\n",
    "# So we will first identify what is the most common TMA position in azimuth over all the overlap periods and we will make the analysis for this\n",
    "# position only\n",
    "az_min, az_max = get_common_azimuth(overlaps, client)\n",
    "\n",
    "# Create pandas dataframe with the relevant EFD data\n",
    "df = make_dataframe(overlaps, client, az_min, az_max)\n",
    "\n",
    "# Plot torque versus elevation angle\n",
    "plot_torque_versus_elevation(df, date, 0.5 * (az_max + az_min), plot_dir)"
   ]
  },
  {
   "cell_type": "markdown",
   "id": "16c83b5a-5580-4ef0-8566-37cf0d39ffa2",
   "metadata": {},
   "source": [
    "## Plot data in chronological order\n",
    "\n",
    "It is useful to plot a few quantities in chronological order in order to be able to understand the exact sequence of events"
   ]
  },
  {
   "cell_type": "code",
   "execution_count": null,
   "id": "26bba803-a549-477f-877b-d5709325a6f5",
   "metadata": {},
   "outputs": [],
   "source": [
    "# We will retrieve data back t_back seconds in the past\n",
    "t_back = 1000\n",
    "plot_history(\n",
    "    df, client, t_back, date, 0.5 * (az_max + az_min), plot_dir, save_plot=True\n",
    ")"
   ]
  },
  {
   "cell_type": "code",
   "execution_count": null,
   "id": "e447b01c-0a72-4ddf-8376-aaf315190158",
   "metadata": {},
   "outputs": [],
   "source": []
  }
 ],
 "metadata": {
  "kernelspec": {
   "display_name": "LSST",
   "language": "python",
   "name": "lsst"
  },
  "language_info": {
   "codemirror_mode": {
    "name": "ipython",
    "version": 3
   },
   "file_extension": ".py",
   "mimetype": "text/x-python",
   "name": "python",
   "nbconvert_exporter": "python",
   "pygments_lexer": "ipython3",
   "version": "3.11.9"
  }
 },
 "nbformat": 4,
 "nbformat_minor": 5
}
