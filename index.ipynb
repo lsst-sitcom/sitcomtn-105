{
 "cells": [
  {
   "cell_type": "markdown",
   "id": "120aa3a6-05f8-4d83-b500-297c08be16a1",
   "metadata": {},
   "source": [
    "# TMA Balancing Comparison\n",
    "\n",
    "## Abstract\n",
    "\n",
    "We want to compare TMA Balancing data comparing different configurations. "
   ]
  },
  {
   "cell_type": "code",
   "execution_count": null,
   "id": "9accade8-2601-4012-bba0-c160589c041a",
   "metadata": {},
   "outputs": [],
   "source": [
    "print(\"Hello world\")"
   ]
  }
 ],
 "metadata": {
  "kernelspec": {
   "display_name": "LSST",
   "language": "python",
   "name": "lsst"
  },
  "language_info": {
   "codemirror_mode": {
    "name": "ipython",
    "version": 3
   },
   "file_extension": ".py",
   "mimetype": "text/x-python",
   "name": "python",
   "nbconvert_exporter": "python",
   "pygments_lexer": "ipython3",
   "version": "3.11.7"
  }
 },
 "nbformat": 4,
 "nbformat_minor": 5
}
