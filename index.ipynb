{
 "cells": [
  {
   "cell_type": "markdown",
   "id": "b152cbca-b1d9-47ea-aa5b-a62067f760a6",
   "metadata": {},
   "source": [
    "# Symonyi Telescope - Post-Balancing Data Analysis\n",
    "\n",
    "```{abstract}\n",
    "We are getting ready to balance the telescope twice in the next weeks. First, we will balance the telescope with ComCam and M2 Glass. The M2 Glass and M2 Surrogate have similar weights, with a small difference. We expect the torques applied by the elevation drives will be very close to the previous balancing event(s). A couple of weeks later, we will repeat the procedure with ComCam, M2 Glass, and M1M3 Glass. The M1M3 Glass and M1M3 Cell assembly is much heavier than the M1M3 Mass Simulator (yellow cross) and hundreds of kilograms heavier than the M1M3 Surrogate and M1M3 Cell configuration. This procedure will be much more delicate due to the size and mass of the mirror. \n",
    "\n",
    "We want to establish a baseline before we start the procedure, and we need someone to review the data to determine whether we can proceed quickly. \n",
    "\n",
    "The links below point to old night logs that might contain useful information. Feel free to unlink them if they are not useful. \n",
    "\n",
    "Here is an approximate timeline of different integration phases where we needed to re-balance the telescope. \n",
    "We do not necessarily need the whole process. We need the torques once the telescope is already balanced as a baseline.\n",
    "\n",
    "May to Aug 2023 - M1M3 Surrogate and M1M3 Cell on the TMA\n",
    "\n",
    "Nov 2023 to Jan 2024 - M1M3 Surrogate and Cell, M2 Surrogate and Cell on the TMA\n",
    "\n",
    "Feb to Apr 2024 - M2 Surrogate and Cell on the TMA\n",
    "```"
   ]
  },
  {
   "cell_type": "markdown",
   "id": "6703e569-b1b5-4774-abce-002116893a9b",
   "metadata": {},
   "source": [
    "---\n",
    "## Set up notebook\n",
    "\n",
    "Let's start importing a few libraries to use in this notebook. "
   ]
  },
  {
   "cell_type": "code",
   "execution_count": 1,
   "id": "6f53023c-3de5-4013-954e-b7b5adc44e44",
   "metadata": {
    "execution": {
     "iopub.execute_input": "2024-08-12T16:36:03.107874Z",
     "iopub.status.busy": "2024-08-12T16:36:03.107752Z",
     "iopub.status.idle": "2024-08-12T16:36:08.534421Z",
     "shell.execute_reply": "2024-08-12T16:36:08.533955Z",
     "shell.execute_reply.started": "2024-08-12T16:36:03.107862Z"
    }
   },
   "outputs": [],
   "source": [
    "# Notebook extensions for formatting and auto-reload libraries\n",
    "%matplotlib inline\n",
    "%load_ext lab_black\n",
    "%load_ext autoreload\n",
    "%autoreload 2\n",
    "\n",
    "# Standard Python Libraries\n",
    "import os\n",
    "import matplotlib.dates as mdates\n",
    "import matplotlib.pyplot as plt\n",
    "import matplotlib.colors as mcolors\n",
    "import numpy as np\n",
    "import pandas as pd\n",
    "\n",
    "from astropy.time import Time\n",
    "from collections import defaultdict\n",
    "from datetime import datetime, timedelta\n",
    "from scipy.stats import norm\n",
    "\n",
    "# LSST Specific Libraries\n",
    "from lsst_efd_client import EfdClient\n",
    "from lsst.summit.utils.blockUtils import BlockParser\n",
    "from lsst.summit.utils.efdUtils import makeEfdClient, getEfdData\n",
    "from lsst.summit.utils.tmaUtils import (\n",
    "    getCommandsDuringEvent,\n",
    "    TMAEvent,\n",
    "    TMAEventMaker,\n",
    "    TMAState,\n",
    ")"
   ]
  },
  {
   "cell_type": "markdown",
   "id": "f03d0b26-b8ac-48d4-a8b3-9d95eabd715c",
   "metadata": {},
   "source": [
    "### Setting up the sub-directories"
   ]
  },
  {
   "cell_type": "code",
   "execution_count": 2,
   "id": "554a656d-6381-4eff-b65b-a349ad40ca6b",
   "metadata": {
    "execution": {
     "iopub.execute_input": "2024-08-12T16:36:08.535438Z",
     "iopub.status.busy": "2024-08-12T16:36:08.534975Z",
     "iopub.status.idle": "2024-08-12T16:36:08.570244Z",
     "shell.execute_reply": "2024-08-12T16:36:08.569863Z",
     "shell.execute_reply.started": "2024-08-12T16:36:08.535425Z"
    }
   },
   "outputs": [],
   "source": [
    "base_dir = os.getcwd()\n",
    "figure_dir, data_dir = base_dir + \"plots\", base_dir + \"data\"\n",
    "for pathname in [figure_dir, data_dir]:\n",
    "    if not os.path.isdir(pathname):\n",
    "        os.mkdir(pathname)"
   ]
  },
  {
   "cell_type": "code",
   "execution_count": 3,
   "id": "d2cc3ed1-f237-4a3d-a1e5-4de3bf5914d3",
   "metadata": {
    "execution": {
     "iopub.execute_input": "2024-08-12T16:36:08.570900Z",
     "iopub.status.busy": "2024-08-12T16:36:08.570774Z",
     "iopub.status.idle": "2024-08-12T16:36:08.599925Z",
     "shell.execute_reply": "2024-08-12T16:36:08.599554Z",
     "shell.execute_reply.started": "2024-08-12T16:36:08.570889Z"
    }
   },
   "outputs": [],
   "source": [
    "verbatim = False"
   ]
  },
  {
   "cell_type": "markdown",
   "id": "2e5a8f82-721c-4957-83e8-8d56622cefc7",
   "metadata": {},
   "source": [
    "### Helper Functions\n",
    "\n",
    "When this notebook gets into a more mature state, we will want to move the code below to a python library so the it gets cleaner. "
   ]
  },
  {
   "cell_type": "code",
   "execution_count": 4,
   "id": "f6efe50a-2c74-4de8-97c5-295507edc33c",
   "metadata": {
    "execution": {
     "iopub.execute_input": "2024-08-12T16:36:08.600572Z",
     "iopub.status.busy": "2024-08-12T16:36:08.600444Z",
     "iopub.status.idle": "2024-08-12T16:36:08.659050Z",
     "shell.execute_reply": "2024-08-12T16:36:08.658661Z",
     "shell.execute_reply.started": "2024-08-12T16:36:08.600561Z"
    }
   },
   "outputs": [],
   "source": [
    "async def query_bump_logs_in_chunks(\n",
    "    start_date,\n",
    "    end_date,\n",
    "    client_name=\"\",\n",
    "    chunk_size_days=3,\n",
    "    topic_name=\"lsst.sal.MTM1M3.logevent_logMessage\",\n",
    "    fields=[\"message\"],\n",
    "):\n",
    "    \"\"\"\n",
    "    Queries the log messages related to bump tests from the EFD in chunks.\n",
    "\n",
    "    Args:\n",
    "        start_date (str): Start date of the query in ISO format (YYYY-MM-DD).\n",
    "\n",
    "        end_date (str): End date of the query in ISO format (YYYY-MM-DD).\n",
    "\n",
    "        client_name (str, optional): Name of the EFD client. Defaults to \"\".\n",
    "\n",
    "        chunk_size_days (int, optional): Number of days per chunk. Defaults to 3.\n",
    "\n",
    "        topic_name (str, optional): SAL topic name to be queried by the client. Defaults to lsst.sal.MTM1M3.logevent_logMessage.\n",
    "\n",
    "        fields (list[str], optional): Fields to be queried by the client. Defaults to [\"message\"].\n",
    "\n",
    "    Returns:\n",
    "        pandas.DataFrame: Concatenated DataFrame containing the queried log messages.\n",
    "    \"\"\"\n",
    "\n",
    "    client = makeClient(client_name)\n",
    "\n",
    "    # Convert start and end dates to datetime objects\n",
    "    start = datetime.fromisoformat(start_date)\n",
    "    end = datetime.fromisoformat(end_date)\n",
    "\n",
    "    # Initialize an empty DataFrame to store concatenated results\n",
    "    all_data = pd.DataFrame()\n",
    "\n",
    "    current_start = start\n",
    "    while current_start < end:\n",
    "        current_end = min(current_start + timedelta(days=chunk_size_days), end)\n",
    "        try:\n",
    "            # Query the data for the current chunk\n",
    "            chunk_data = await client.select_time_series(\n",
    "                topic_name=topic_name,\n",
    "                fields=fields,\n",
    "                start=Time(current_start.isoformat(), format=\"isot\", scale=\"utc\"),\n",
    "                end=Time(current_end.isoformat(), format=\"isot\", scale=\"utc\"),\n",
    "            )\n",
    "            # Concatenate the chunk data to the main DataFrame\n",
    "            all_data = pd.concat([all_data, chunk_data], ignore_index=False)\n",
    "        except Exception as e:\n",
    "            print(\n",
    "                f\"Error querying data from {current_start.isoformat()} to {current_end.isoformat()}: {e}\"\n",
    "            )\n",
    "            continue  # Optionally, continue to the next chunk\n",
    "\n",
    "        # Move to the next chunk\n",
    "        current_start = current_end\n",
    "\n",
    "    return all_data\n",
    "\n",
    "\n",
    "def makeClient(client_name):\n",
    "    # Create the client based on client_name\n",
    "    if client_name == \"summit_efd\":\n",
    "        return makeEfdClient(\"summit_efd\")\n",
    "    elif client_name == \"usdf_efd\":\n",
    "        return makeEfdClient(\"usdf_efd\")\n",
    "    elif client_name == \"idf_efd\":\n",
    "        return makeEfdClient(\"idf_efd\")\n",
    "    else:\n",
    "        return makeEfdClient()  # Default client\n",
    "\n",
    "\n",
    "# Example usage:\n",
    "# begin = \"2023-11-13T01:00\"\n",
    "# end = \"2023-12-21T01:00\"\n",
    "# bump_logs = await query_bump_logs_in_chunks(begin, end, client_name='')\n",
    "\n",
    "\n",
    "def showAndClear():\n",
    "    plt.show()\n",
    "    # Clear the current axes.\n",
    "    plt.cla()\n",
    "    # Clear the current figure.\n",
    "    plt.clf()\n",
    "    # Closes all the figure windows.\n",
    "    plt.close(\"all\")\n",
    "    plt.close(fig)\n",
    "\n",
    "    return\n",
    "\n",
    "\n",
    "async def getDataFrame(client, starts, ends, topic, verbose=True, fields=None):\n",
    "\n",
    "    all_data = pd.DataFrame()\n",
    "    for start, end in zip(starts, ends):\n",
    "        if verbose:\n",
    "            print(\n",
    "                r\"Starting query for time range {} - {}\".format(start, end),\n",
    "                end=\" . . . \",\n",
    "            )\n",
    "        if fields != None:\n",
    "            df_bump = await client.select_time_series(\n",
    "                topic, fields, Time(start), Time(end)\n",
    "            )\n",
    "        else:\n",
    "            df_bump = await client.select_time_series(\n",
    "                topic, \"*\", Time(start), Time(end)\n",
    "            )\n",
    "\n",
    "        all_data = pd.concat([all_data, df_bump], ignore_index=False)\n",
    "\n",
    "        del df_bump\n",
    "\n",
    "        if verbose:\n",
    "            print(\"Finished\")\n",
    "\n",
    "    return all_data\n",
    "\n",
    "\n",
    "def makeDateRange(startPoint, endPoint, step=np.timedelta64(1, \"D\")):\n",
    "    starts = np.arange(startPoint, endPoint, step=step)\n",
    "    ends = starts + np.timedelta64(1, \"D\")\n",
    "    return starts, ends\n",
    "\n",
    "\n",
    "def fitGaussian(data, ax):\n",
    "    mu, std = norm.fit(data)\n",
    "\n",
    "    xmin, xmax = ax.get_xlim()\n",
    "    x = np.linspace(np.floor(xmin), np.ceil(xmax), int(10e4))\n",
    "    p = norm.pdf(x, mu, std)\n",
    "\n",
    "    return mu, std, p, x, xmin, xmax\n",
    "\n",
    "\n",
    "def getFWHM_from_gaussian(sigma):\n",
    "    return 2 * np.sqrt(np.log(2) * 2) * sigma"
   ]
  },
  {
   "cell_type": "markdown",
   "id": "b15a017c-5888-4fda-adf8-f8343e5c62c3",
   "metadata": {},
   "source": [
    "## Get all topics, so we can take a look at what is here"
   ]
  },
  {
   "cell_type": "code",
   "execution_count": 5,
   "id": "fcdcf667-237e-4c82-b865-f95b576f9a26",
   "metadata": {
    "execution": {
     "iopub.execute_input": "2024-08-12T16:36:08.659761Z",
     "iopub.status.busy": "2024-08-12T16:36:08.659634Z",
     "iopub.status.idle": "2024-08-12T16:36:09.125361Z",
     "shell.execute_reply": "2024-08-12T16:36:09.124919Z",
     "shell.execute_reply.started": "2024-08-12T16:36:08.659749Z"
    },
    "scrolled": true
   },
   "outputs": [],
   "source": [
    "client = makeClient(\"usdf_efd\")\n",
    "\n",
    "a = await client.get_topics()\n",
    "\n",
    "if verbatim:\n",
    "    for entry in a:\n",
    "        if entry.__contains__(\"lsst.sal.MTMount\"):\n",
    "            print(entry)"
   ]
  },
  {
   "cell_type": "code",
   "execution_count": 6,
   "id": "e90eb986-24e0-4f1b-853c-d92c762cb85d",
   "metadata": {
    "execution": {
     "iopub.execute_input": "2024-08-12T16:36:09.126150Z",
     "iopub.status.busy": "2024-08-12T16:36:09.125939Z",
     "iopub.status.idle": "2024-08-12T16:36:09.344607Z",
     "shell.execute_reply": "2024-08-12T16:36:09.344117Z",
     "shell.execute_reply.started": "2024-08-12T16:36:09.126138Z"
    },
    "scrolled": true
   },
   "outputs": [],
   "source": [
    "b = await client.get_fields(\"lsst.sal.MTMount.elevation\")\n",
    "\n",
    "if verbatim:\n",
    "    for entry in b:\n",
    "        print(entry)"
   ]
  },
  {
   "cell_type": "markdown",
   "id": "d53b605d-389b-4872-a8bd-ddf677ec8db9",
   "metadata": {},
   "source": [
    "## M1M3 Surrogate and M1M3 Cell on the TMA - May 2023-Aug 2023"
   ]
  },
  {
   "cell_type": "code",
   "execution_count": 7,
   "id": "76d2d2b0-7316-412d-bc01-81f9f6a44905",
   "metadata": {
    "execution": {
     "iopub.execute_input": "2024-08-12T16:36:09.345334Z",
     "iopub.status.busy": "2024-08-12T16:36:09.345197Z",
     "iopub.status.idle": "2024-08-12T16:36:09.382408Z",
     "shell.execute_reply": "2024-08-12T16:36:09.382009Z",
     "shell.execute_reply.started": "2024-08-12T16:36:09.345323Z"
    }
   },
   "outputs": [],
   "source": [
    "startPoint = np.datetime64(\"2023-05-25T12:00:00\")\n",
    "endPoint = np.datetime64(\"2023-06-25T12:00:00\")\n",
    "starts, ends = makeDateRange(startPoint, endPoint)\n",
    "\n",
    "topic_az = \"lsst.sal.MTMount.azimuth\"\n",
    "fields_az = [\"actualTorque\"]\n",
    "\n",
    "topic_el = \"lsst.sal.MTMount.elevation\"\n",
    "fields_el = [\"actualPosition\"]"
   ]
  },
  {
   "cell_type": "code",
   "execution_count": 8,
   "id": "668694e3-004b-465c-b472-f4230789f154",
   "metadata": {
    "execution": {
     "iopub.execute_input": "2024-08-12T16:36:09.383094Z",
     "iopub.status.busy": "2024-08-12T16:36:09.382966Z",
     "iopub.status.idle": "2024-08-12T16:36:09.420017Z",
     "shell.execute_reply": "2024-08-12T16:36:09.419637Z",
     "shell.execute_reply.started": "2024-08-12T16:36:09.383083Z"
    }
   },
   "outputs": [],
   "source": [
    "def formatToInt(datetime):\n",
    "    years = datetime.astype(object).year\n",
    "    months = datetime.astype(object).month\n",
    "    if len(str(months)) == 1:\n",
    "        months = \"0\" + str(months)\n",
    "    days = datetime.astype(object).day\n",
    "    if len(str(days)) == 1:\n",
    "        days = \"0\" + str(days)\n",
    "    return int(str(years) + str(months) + str(days))"
   ]
  },
  {
   "cell_type": "code",
   "execution_count": 9,
   "id": "c65ccf57-1957-4eab-bc98-e60da65dcb80",
   "metadata": {
    "execution": {
     "iopub.execute_input": "2024-08-12T16:36:09.420687Z",
     "iopub.status.busy": "2024-08-12T16:36:09.420564Z",
     "iopub.status.idle": "2024-08-12T16:36:27.007857Z",
     "shell.execute_reply": "2024-08-12T16:36:27.007429Z",
     "shell.execute_reply.started": "2024-08-12T16:36:09.420676Z"
    }
   },
   "outputs": [
    {
     "data": {
      "text/html": [
       "<pre style=\"margin: 0.1em;\n",
       "padding-left: 0.25em;\n",
       "border-left-style: solid;\n",
       "font-family: var(--jp-code-font-family);\n",
       "font-size: var(--jp-code-font-size);\n",
       "line-height: var(--jp-code-line-height);\n",
       "\"><span style=\"color: var(--jp-warn-color2)\">lsst.summit.utils.tmaUtils</span> <span style=\"color: var(--jp-info-color0)\">INFO</span>: Retrieving mount data for 20230525 from the EFD</pre>"
      ],
      "text/plain": [
       "<IPython.core.display.HTML object>"
      ]
     },
     "metadata": {},
     "output_type": "display_data"
    },
    {
     "data": {
      "text/html": [
       "<pre style=\"margin: 0.1em;\n",
       "padding-left: 0.25em;\n",
       "border-left-style: solid;\n",
       "font-family: var(--jp-code-font-family);\n",
       "font-size: var(--jp-code-font-size);\n",
       "line-height: var(--jp-code-line-height);\n",
       "\"><span style=\"color: var(--jp-warn-color2)\">lsst.summit.utils.tmaUtils</span> <span style=\"color: var(--jp-info-color0)\">INFO</span>: Retrieving mount data for 20230526 from the EFD</pre>"
      ],
      "text/plain": [
       "<IPython.core.display.HTML object>"
      ]
     },
     "metadata": {},
     "output_type": "display_data"
    },
    {
     "data": {
      "text/html": [
       "<pre style=\"margin: 0.1em;\n",
       "padding-left: 0.25em;\n",
       "border-left-style: solid;\n",
       "font-family: var(--jp-code-font-family);\n",
       "font-size: var(--jp-code-font-size);\n",
       "line-height: var(--jp-code-line-height);\n",
       "\"><span style=\"color: var(--jp-warn-color2)\">lsst.summit.utils.tmaUtils</span> <span style=\"color: var(--jp-info-color0)\">INFO</span>: Retrieving mount data for 20230527 from the EFD</pre>"
      ],
      "text/plain": [
       "<IPython.core.display.HTML object>"
      ]
     },
     "metadata": {},
     "output_type": "display_data"
    },
    {
     "data": {
      "text/html": [
       "<pre style=\"margin: 0.1em;\n",
       "padding-left: 0.25em;\n",
       "border-left-style: solid;\n",
       "font-family: var(--jp-code-font-family);\n",
       "font-size: var(--jp-code-font-size);\n",
       "line-height: var(--jp-code-line-height);\n",
       "\"><span style=\"color: var(--jp-warn-color2)\">lsst.summit.utils.tmaUtils</span> <span style=\"color: var(--jp-warn-color0)\">WARNING</span>: No EFD data found for dayObs=20230527</pre>"
      ],
      "text/plain": [
       "<IPython.core.display.HTML object>"
      ]
     },
     "metadata": {},
     "output_type": "display_data"
    },
    {
     "data": {
      "text/html": [
       "<pre style=\"margin: 0.1em;\n",
       "padding-left: 0.25em;\n",
       "border-left-style: solid;\n",
       "font-family: var(--jp-code-font-family);\n",
       "font-size: var(--jp-code-font-size);\n",
       "line-height: var(--jp-code-line-height);\n",
       "\"><span style=\"color: var(--jp-warn-color2)\">lsst.summit.utils.tmaUtils</span> <span style=\"color: var(--jp-info-color0)\">INFO</span>: Retrieving mount data for 20230528 from the EFD</pre>"
      ],
      "text/plain": [
       "<IPython.core.display.HTML object>"
      ]
     },
     "metadata": {},
     "output_type": "display_data"
    },
    {
     "data": {
      "text/html": [
       "<pre style=\"margin: 0.1em;\n",
       "padding-left: 0.25em;\n",
       "border-left-style: solid;\n",
       "font-family: var(--jp-code-font-family);\n",
       "font-size: var(--jp-code-font-size);\n",
       "line-height: var(--jp-code-line-height);\n",
       "\"><span style=\"color: var(--jp-warn-color2)\">lsst.summit.utils.tmaUtils</span> <span style=\"color: var(--jp-warn-color0)\">WARNING</span>: No EFD data found for dayObs=20230528</pre>"
      ],
      "text/plain": [
       "<IPython.core.display.HTML object>"
      ]
     },
     "metadata": {},
     "output_type": "display_data"
    },
    {
     "data": {
      "text/html": [
       "<pre style=\"margin: 0.1em;\n",
       "padding-left: 0.25em;\n",
       "border-left-style: solid;\n",
       "font-family: var(--jp-code-font-family);\n",
       "font-size: var(--jp-code-font-size);\n",
       "line-height: var(--jp-code-line-height);\n",
       "\"><span style=\"color: var(--jp-warn-color2)\">lsst.summit.utils.tmaUtils</span> <span style=\"color: var(--jp-info-color0)\">INFO</span>: Retrieving mount data for 20230529 from the EFD</pre>"
      ],
      "text/plain": [
       "<IPython.core.display.HTML object>"
      ]
     },
     "metadata": {},
     "output_type": "display_data"
    },
    {
     "data": {
      "text/html": [
       "<pre style=\"margin: 0.1em;\n",
       "padding-left: 0.25em;\n",
       "border-left-style: solid;\n",
       "font-family: var(--jp-code-font-family);\n",
       "font-size: var(--jp-code-font-size);\n",
       "line-height: var(--jp-code-line-height);\n",
       "\"><span style=\"color: var(--jp-warn-color2)\">lsst.summit.utils.tmaUtils</span> <span style=\"color: var(--jp-info-color0)\">INFO</span>: Retrieving mount data for 20230530 from the EFD</pre>"
      ],
      "text/plain": [
       "<IPython.core.display.HTML object>"
      ]
     },
     "metadata": {},
     "output_type": "display_data"
    },
    {
     "data": {
      "text/html": [
       "<pre style=\"margin: 0.1em;\n",
       "padding-left: 0.25em;\n",
       "border-left-style: solid;\n",
       "font-family: var(--jp-code-font-family);\n",
       "font-size: var(--jp-code-font-size);\n",
       "line-height: var(--jp-code-line-height);\n",
       "\"><span style=\"color: var(--jp-warn-color2)\">lsst.summit.utils.tmaUtils</span> <span style=\"color: var(--jp-info-color0)\">INFO</span>: Retrieving mount data for 20230531 from the EFD</pre>"
      ],
      "text/plain": [
       "<IPython.core.display.HTML object>"
      ]
     },
     "metadata": {},
     "output_type": "display_data"
    },
    {
     "data": {
      "text/html": [
       "<pre style=\"margin: 0.1em;\n",
       "padding-left: 0.25em;\n",
       "border-left-style: solid;\n",
       "font-family: var(--jp-code-font-family);\n",
       "font-size: var(--jp-code-font-size);\n",
       "line-height: var(--jp-code-line-height);\n",
       "\"><span style=\"color: var(--jp-warn-color2)\">lsst.summit.utils.tmaUtils</span> <span style=\"color: var(--jp-info-color0)\">INFO</span>: Retrieving mount data for 20230601 from the EFD</pre>"
      ],
      "text/plain": [
       "<IPython.core.display.HTML object>"
      ]
     },
     "metadata": {},
     "output_type": "display_data"
    },
    {
     "data": {
      "text/html": [
       "<pre style=\"margin: 0.1em;\n",
       "padding-left: 0.25em;\n",
       "border-left-style: solid;\n",
       "font-family: var(--jp-code-font-family);\n",
       "font-size: var(--jp-code-font-size);\n",
       "line-height: var(--jp-code-line-height);\n",
       "\"><span style=\"color: var(--jp-warn-color2)\">lsst.summit.utils.tmaUtils</span> <span style=\"color: var(--jp-info-color0)\">INFO</span>: Retrieving mount data for 20230602 from the EFD</pre>"
      ],
      "text/plain": [
       "<IPython.core.display.HTML object>"
      ]
     },
     "metadata": {},
     "output_type": "display_data"
    },
    {
     "data": {
      "text/html": [
       "<pre style=\"margin: 0.1em;\n",
       "padding-left: 0.25em;\n",
       "border-left-style: solid;\n",
       "font-family: var(--jp-code-font-family);\n",
       "font-size: var(--jp-code-font-size);\n",
       "line-height: var(--jp-code-line-height);\n",
       "\"><span style=\"color: var(--jp-warn-color2)\">lsst.summit.utils.tmaUtils</span> <span style=\"color: var(--jp-warn-color0)\">WARNING</span>: No EFD data found for dayObs=20230602</pre>"
      ],
      "text/plain": [
       "<IPython.core.display.HTML object>"
      ]
     },
     "metadata": {},
     "output_type": "display_data"
    },
    {
     "data": {
      "text/html": [
       "<pre style=\"margin: 0.1em;\n",
       "padding-left: 0.25em;\n",
       "border-left-style: solid;\n",
       "font-family: var(--jp-code-font-family);\n",
       "font-size: var(--jp-code-font-size);\n",
       "line-height: var(--jp-code-line-height);\n",
       "\"><span style=\"color: var(--jp-warn-color2)\">lsst.summit.utils.tmaUtils</span> <span style=\"color: var(--jp-info-color0)\">INFO</span>: Retrieving mount data for 20230603 from the EFD</pre>"
      ],
      "text/plain": [
       "<IPython.core.display.HTML object>"
      ]
     },
     "metadata": {},
     "output_type": "display_data"
    },
    {
     "data": {
      "text/html": [
       "<pre style=\"margin: 0.1em;\n",
       "padding-left: 0.25em;\n",
       "border-left-style: solid;\n",
       "font-family: var(--jp-code-font-family);\n",
       "font-size: var(--jp-code-font-size);\n",
       "line-height: var(--jp-code-line-height);\n",
       "\"><span style=\"color: var(--jp-warn-color2)\">lsst.summit.utils.tmaUtils</span> <span style=\"color: var(--jp-warn-color0)\">WARNING</span>: No EFD data found for dayObs=20230603</pre>"
      ],
      "text/plain": [
       "<IPython.core.display.HTML object>"
      ]
     },
     "metadata": {},
     "output_type": "display_data"
    },
    {
     "data": {
      "text/html": [
       "<pre style=\"margin: 0.1em;\n",
       "padding-left: 0.25em;\n",
       "border-left-style: solid;\n",
       "font-family: var(--jp-code-font-family);\n",
       "font-size: var(--jp-code-font-size);\n",
       "line-height: var(--jp-code-line-height);\n",
       "\"><span style=\"color: var(--jp-warn-color2)\">lsst.summit.utils.tmaUtils</span> <span style=\"color: var(--jp-info-color0)\">INFO</span>: Retrieving mount data for 20230604 from the EFD</pre>"
      ],
      "text/plain": [
       "<IPython.core.display.HTML object>"
      ]
     },
     "metadata": {},
     "output_type": "display_data"
    },
    {
     "data": {
      "text/html": [
       "<pre style=\"margin: 0.1em;\n",
       "padding-left: 0.25em;\n",
       "border-left-style: solid;\n",
       "font-family: var(--jp-code-font-family);\n",
       "font-size: var(--jp-code-font-size);\n",
       "line-height: var(--jp-code-line-height);\n",
       "\"><span style=\"color: var(--jp-warn-color2)\">lsst.summit.utils.tmaUtils</span> <span style=\"color: var(--jp-warn-color0)\">WARNING</span>: No EFD data found for dayObs=20230604</pre>"
      ],
      "text/plain": [
       "<IPython.core.display.HTML object>"
      ]
     },
     "metadata": {},
     "output_type": "display_data"
    },
    {
     "data": {
      "text/html": [
       "<pre style=\"margin: 0.1em;\n",
       "padding-left: 0.25em;\n",
       "border-left-style: solid;\n",
       "font-family: var(--jp-code-font-family);\n",
       "font-size: var(--jp-code-font-size);\n",
       "line-height: var(--jp-code-line-height);\n",
       "\"><span style=\"color: var(--jp-warn-color2)\">lsst.summit.utils.tmaUtils</span> <span style=\"color: var(--jp-info-color0)\">INFO</span>: Retrieving mount data for 20230605 from the EFD</pre>"
      ],
      "text/plain": [
       "<IPython.core.display.HTML object>"
      ]
     },
     "metadata": {},
     "output_type": "display_data"
    },
    {
     "data": {
      "text/html": [
       "<pre style=\"margin: 0.1em;\n",
       "padding-left: 0.25em;\n",
       "border-left-style: solid;\n",
       "font-family: var(--jp-code-font-family);\n",
       "font-size: var(--jp-code-font-size);\n",
       "line-height: var(--jp-code-line-height);\n",
       "\"><span style=\"color: var(--jp-warn-color2)\">lsst.summit.utils.tmaUtils</span> <span style=\"color: var(--jp-warn-color0)\">WARNING</span>: No EFD data found for dayObs=20230605</pre>"
      ],
      "text/plain": [
       "<IPython.core.display.HTML object>"
      ]
     },
     "metadata": {},
     "output_type": "display_data"
    },
    {
     "data": {
      "text/html": [
       "<pre style=\"margin: 0.1em;\n",
       "padding-left: 0.25em;\n",
       "border-left-style: solid;\n",
       "font-family: var(--jp-code-font-family);\n",
       "font-size: var(--jp-code-font-size);\n",
       "line-height: var(--jp-code-line-height);\n",
       "\"><span style=\"color: var(--jp-warn-color2)\">lsst.summit.utils.tmaUtils</span> <span style=\"color: var(--jp-info-color0)\">INFO</span>: Retrieving mount data for 20230606 from the EFD</pre>"
      ],
      "text/plain": [
       "<IPython.core.display.HTML object>"
      ]
     },
     "metadata": {},
     "output_type": "display_data"
    },
    {
     "data": {
      "text/html": [
       "<pre style=\"margin: 0.1em;\n",
       "padding-left: 0.25em;\n",
       "border-left-style: solid;\n",
       "font-family: var(--jp-code-font-family);\n",
       "font-size: var(--jp-code-font-size);\n",
       "line-height: var(--jp-code-line-height);\n",
       "\"><span style=\"color: var(--jp-warn-color2)\">lsst.summit.utils.tmaUtils</span> <span style=\"color: var(--jp-warn-color0)\">WARNING</span>: No EFD data found for dayObs=20230606</pre>"
      ],
      "text/plain": [
       "<IPython.core.display.HTML object>"
      ]
     },
     "metadata": {},
     "output_type": "display_data"
    },
    {
     "data": {
      "text/html": [
       "<pre style=\"margin: 0.1em;\n",
       "padding-left: 0.25em;\n",
       "border-left-style: solid;\n",
       "font-family: var(--jp-code-font-family);\n",
       "font-size: var(--jp-code-font-size);\n",
       "line-height: var(--jp-code-line-height);\n",
       "\"><span style=\"color: var(--jp-warn-color2)\">lsst.summit.utils.tmaUtils</span> <span style=\"color: var(--jp-info-color0)\">INFO</span>: Retrieving mount data for 20230607 from the EFD</pre>"
      ],
      "text/plain": [
       "<IPython.core.display.HTML object>"
      ]
     },
     "metadata": {},
     "output_type": "display_data"
    },
    {
     "data": {
      "text/html": [
       "<pre style=\"margin: 0.1em;\n",
       "padding-left: 0.25em;\n",
       "border-left-style: solid;\n",
       "font-family: var(--jp-code-font-family);\n",
       "font-size: var(--jp-code-font-size);\n",
       "line-height: var(--jp-code-line-height);\n",
       "\"><span style=\"color: var(--jp-warn-color2)\">lsst.summit.utils.tmaUtils</span> <span style=\"color: var(--jp-warn-color0)\">WARNING</span>: No EFD data found for dayObs=20230607</pre>"
      ],
      "text/plain": [
       "<IPython.core.display.HTML object>"
      ]
     },
     "metadata": {},
     "output_type": "display_data"
    },
    {
     "data": {
      "text/html": [
       "<pre style=\"margin: 0.1em;\n",
       "padding-left: 0.25em;\n",
       "border-left-style: solid;\n",
       "font-family: var(--jp-code-font-family);\n",
       "font-size: var(--jp-code-font-size);\n",
       "line-height: var(--jp-code-line-height);\n",
       "\"><span style=\"color: var(--jp-warn-color2)\">lsst.summit.utils.tmaUtils</span> <span style=\"color: var(--jp-info-color0)\">INFO</span>: Retrieving mount data for 20230608 from the EFD</pre>"
      ],
      "text/plain": [
       "<IPython.core.display.HTML object>"
      ]
     },
     "metadata": {},
     "output_type": "display_data"
    },
    {
     "data": {
      "text/html": [
       "<pre style=\"margin: 0.1em;\n",
       "padding-left: 0.25em;\n",
       "border-left-style: solid;\n",
       "font-family: var(--jp-code-font-family);\n",
       "font-size: var(--jp-code-font-size);\n",
       "line-height: var(--jp-code-line-height);\n",
       "\"><span style=\"color: var(--jp-warn-color2)\">lsst.summit.utils.tmaUtils</span> <span style=\"color: var(--jp-warn-color0)\">WARNING</span>: No EFD data found for dayObs=20230608</pre>"
      ],
      "text/plain": [
       "<IPython.core.display.HTML object>"
      ]
     },
     "metadata": {},
     "output_type": "display_data"
    },
    {
     "data": {
      "text/html": [
       "<pre style=\"margin: 0.1em;\n",
       "padding-left: 0.25em;\n",
       "border-left-style: solid;\n",
       "font-family: var(--jp-code-font-family);\n",
       "font-size: var(--jp-code-font-size);\n",
       "line-height: var(--jp-code-line-height);\n",
       "\"><span style=\"color: var(--jp-warn-color2)\">lsst.summit.utils.tmaUtils</span> <span style=\"color: var(--jp-info-color0)\">INFO</span>: Retrieving mount data for 20230609 from the EFD</pre>"
      ],
      "text/plain": [
       "<IPython.core.display.HTML object>"
      ]
     },
     "metadata": {},
     "output_type": "display_data"
    },
    {
     "data": {
      "text/html": [
       "<pre style=\"margin: 0.1em;\n",
       "padding-left: 0.25em;\n",
       "border-left-style: solid;\n",
       "font-family: var(--jp-code-font-family);\n",
       "font-size: var(--jp-code-font-size);\n",
       "line-height: var(--jp-code-line-height);\n",
       "\"><span style=\"color: var(--jp-warn-color2)\">lsst.summit.utils.tmaUtils</span> <span style=\"color: var(--jp-warn-color0)\">WARNING</span>: No EFD data found for dayObs=20230609</pre>"
      ],
      "text/plain": [
       "<IPython.core.display.HTML object>"
      ]
     },
     "metadata": {},
     "output_type": "display_data"
    },
    {
     "data": {
      "text/html": [
       "<pre style=\"margin: 0.1em;\n",
       "padding-left: 0.25em;\n",
       "border-left-style: solid;\n",
       "font-family: var(--jp-code-font-family);\n",
       "font-size: var(--jp-code-font-size);\n",
       "line-height: var(--jp-code-line-height);\n",
       "\"><span style=\"color: var(--jp-warn-color2)\">lsst.summit.utils.tmaUtils</span> <span style=\"color: var(--jp-info-color0)\">INFO</span>: Retrieving mount data for 20230610 from the EFD</pre>"
      ],
      "text/plain": [
       "<IPython.core.display.HTML object>"
      ]
     },
     "metadata": {},
     "output_type": "display_data"
    },
    {
     "data": {
      "text/html": [
       "<pre style=\"margin: 0.1em;\n",
       "padding-left: 0.25em;\n",
       "border-left-style: solid;\n",
       "font-family: var(--jp-code-font-family);\n",
       "font-size: var(--jp-code-font-size);\n",
       "line-height: var(--jp-code-line-height);\n",
       "\"><span style=\"color: var(--jp-warn-color2)\">lsst.summit.utils.tmaUtils</span> <span style=\"color: var(--jp-warn-color0)\">WARNING</span>: No EFD data found for dayObs=20230610</pre>"
      ],
      "text/plain": [
       "<IPython.core.display.HTML object>"
      ]
     },
     "metadata": {},
     "output_type": "display_data"
    },
    {
     "data": {
      "text/html": [
       "<pre style=\"margin: 0.1em;\n",
       "padding-left: 0.25em;\n",
       "border-left-style: solid;\n",
       "font-family: var(--jp-code-font-family);\n",
       "font-size: var(--jp-code-font-size);\n",
       "line-height: var(--jp-code-line-height);\n",
       "\"><span style=\"color: var(--jp-warn-color2)\">lsst.summit.utils.tmaUtils</span> <span style=\"color: var(--jp-info-color0)\">INFO</span>: Retrieving mount data for 20230611 from the EFD</pre>"
      ],
      "text/plain": [
       "<IPython.core.display.HTML object>"
      ]
     },
     "metadata": {},
     "output_type": "display_data"
    },
    {
     "data": {
      "text/html": [
       "<pre style=\"margin: 0.1em;\n",
       "padding-left: 0.25em;\n",
       "border-left-style: solid;\n",
       "font-family: var(--jp-code-font-family);\n",
       "font-size: var(--jp-code-font-size);\n",
       "line-height: var(--jp-code-line-height);\n",
       "\"><span style=\"color: var(--jp-warn-color2)\">lsst.summit.utils.tmaUtils</span> <span style=\"color: var(--jp-warn-color0)\">WARNING</span>: No EFD data found for dayObs=20230611</pre>"
      ],
      "text/plain": [
       "<IPython.core.display.HTML object>"
      ]
     },
     "metadata": {},
     "output_type": "display_data"
    },
    {
     "data": {
      "text/html": [
       "<pre style=\"margin: 0.1em;\n",
       "padding-left: 0.25em;\n",
       "border-left-style: solid;\n",
       "font-family: var(--jp-code-font-family);\n",
       "font-size: var(--jp-code-font-size);\n",
       "line-height: var(--jp-code-line-height);\n",
       "\"><span style=\"color: var(--jp-warn-color2)\">lsst.summit.utils.tmaUtils</span> <span style=\"color: var(--jp-info-color0)\">INFO</span>: Retrieving mount data for 20230612 from the EFD</pre>"
      ],
      "text/plain": [
       "<IPython.core.display.HTML object>"
      ]
     },
     "metadata": {},
     "output_type": "display_data"
    },
    {
     "data": {
      "text/html": [
       "<pre style=\"margin: 0.1em;\n",
       "padding-left: 0.25em;\n",
       "border-left-style: solid;\n",
       "font-family: var(--jp-code-font-family);\n",
       "font-size: var(--jp-code-font-size);\n",
       "line-height: var(--jp-code-line-height);\n",
       "\"><span style=\"color: var(--jp-warn-color2)\">lsst.summit.utils.tmaUtils</span> <span style=\"color: var(--jp-warn-color0)\">WARNING</span>: No EFD data found for dayObs=20230612</pre>"
      ],
      "text/plain": [
       "<IPython.core.display.HTML object>"
      ]
     },
     "metadata": {},
     "output_type": "display_data"
    },
    {
     "data": {
      "text/html": [
       "<pre style=\"margin: 0.1em;\n",
       "padding-left: 0.25em;\n",
       "border-left-style: solid;\n",
       "font-family: var(--jp-code-font-family);\n",
       "font-size: var(--jp-code-font-size);\n",
       "line-height: var(--jp-code-line-height);\n",
       "\"><span style=\"color: var(--jp-warn-color2)\">lsst.summit.utils.tmaUtils</span> <span style=\"color: var(--jp-info-color0)\">INFO</span>: Retrieving mount data for 20230613 from the EFD</pre>"
      ],
      "text/plain": [
       "<IPython.core.display.HTML object>"
      ]
     },
     "metadata": {},
     "output_type": "display_data"
    },
    {
     "data": {
      "text/html": [
       "<pre style=\"margin: 0.1em;\n",
       "padding-left: 0.25em;\n",
       "border-left-style: solid;\n",
       "font-family: var(--jp-code-font-family);\n",
       "font-size: var(--jp-code-font-size);\n",
       "line-height: var(--jp-code-line-height);\n",
       "\"><span style=\"color: var(--jp-warn-color2)\">lsst.summit.utils.tmaUtils</span> <span style=\"color: var(--jp-warn-color0)\">WARNING</span>: No EFD data found for dayObs=20230613</pre>"
      ],
      "text/plain": [
       "<IPython.core.display.HTML object>"
      ]
     },
     "metadata": {},
     "output_type": "display_data"
    },
    {
     "data": {
      "text/html": [
       "<pre style=\"margin: 0.1em;\n",
       "padding-left: 0.25em;\n",
       "border-left-style: solid;\n",
       "font-family: var(--jp-code-font-family);\n",
       "font-size: var(--jp-code-font-size);\n",
       "line-height: var(--jp-code-line-height);\n",
       "\"><span style=\"color: var(--jp-warn-color2)\">lsst.summit.utils.tmaUtils</span> <span style=\"color: var(--jp-info-color0)\">INFO</span>: Retrieving mount data for 20230614 from the EFD</pre>"
      ],
      "text/plain": [
       "<IPython.core.display.HTML object>"
      ]
     },
     "metadata": {},
     "output_type": "display_data"
    },
    {
     "data": {
      "text/html": [
       "<pre style=\"margin: 0.1em;\n",
       "padding-left: 0.25em;\n",
       "border-left-style: solid;\n",
       "font-family: var(--jp-code-font-family);\n",
       "font-size: var(--jp-code-font-size);\n",
       "line-height: var(--jp-code-line-height);\n",
       "\"><span style=\"color: var(--jp-warn-color2)\">lsst.summit.utils.tmaUtils</span> <span style=\"color: var(--jp-warn-color0)\">WARNING</span>: No EFD data found for dayObs=20230614</pre>"
      ],
      "text/plain": [
       "<IPython.core.display.HTML object>"
      ]
     },
     "metadata": {},
     "output_type": "display_data"
    },
    {
     "data": {
      "text/html": [
       "<pre style=\"margin: 0.1em;\n",
       "padding-left: 0.25em;\n",
       "border-left-style: solid;\n",
       "font-family: var(--jp-code-font-family);\n",
       "font-size: var(--jp-code-font-size);\n",
       "line-height: var(--jp-code-line-height);\n",
       "\"><span style=\"color: var(--jp-warn-color2)\">lsst.summit.utils.tmaUtils</span> <span style=\"color: var(--jp-info-color0)\">INFO</span>: Retrieving mount data for 20230615 from the EFD</pre>"
      ],
      "text/plain": [
       "<IPython.core.display.HTML object>"
      ]
     },
     "metadata": {},
     "output_type": "display_data"
    },
    {
     "data": {
      "text/html": [
       "<pre style=\"margin: 0.1em;\n",
       "padding-left: 0.25em;\n",
       "border-left-style: solid;\n",
       "font-family: var(--jp-code-font-family);\n",
       "font-size: var(--jp-code-font-size);\n",
       "line-height: var(--jp-code-line-height);\n",
       "\"><span style=\"color: var(--jp-warn-color2)\">lsst.summit.utils.tmaUtils</span> <span style=\"color: var(--jp-info-color0)\">INFO</span>: Retrieving mount data for 20230616 from the EFD</pre>"
      ],
      "text/plain": [
       "<IPython.core.display.HTML object>"
      ]
     },
     "metadata": {},
     "output_type": "display_data"
    },
    {
     "data": {
      "text/html": [
       "<pre style=\"margin: 0.1em;\n",
       "padding-left: 0.25em;\n",
       "border-left-style: solid;\n",
       "font-family: var(--jp-code-font-family);\n",
       "font-size: var(--jp-code-font-size);\n",
       "line-height: var(--jp-code-line-height);\n",
       "\"><span style=\"color: var(--jp-warn-color2)\">lsst.summit.utils.tmaUtils</span> <span style=\"color: var(--jp-warn-color0)\">WARNING</span>: No EFD data found for dayObs=20230616</pre>"
      ],
      "text/plain": [
       "<IPython.core.display.HTML object>"
      ]
     },
     "metadata": {},
     "output_type": "display_data"
    },
    {
     "data": {
      "text/html": [
       "<pre style=\"margin: 0.1em;\n",
       "padding-left: 0.25em;\n",
       "border-left-style: solid;\n",
       "font-family: var(--jp-code-font-family);\n",
       "font-size: var(--jp-code-font-size);\n",
       "line-height: var(--jp-code-line-height);\n",
       "\"><span style=\"color: var(--jp-warn-color2)\">lsst.summit.utils.tmaUtils</span> <span style=\"color: var(--jp-info-color0)\">INFO</span>: Retrieving mount data for 20230617 from the EFD</pre>"
      ],
      "text/plain": [
       "<IPython.core.display.HTML object>"
      ]
     },
     "metadata": {},
     "output_type": "display_data"
    },
    {
     "data": {
      "text/html": [
       "<pre style=\"margin: 0.1em;\n",
       "padding-left: 0.25em;\n",
       "border-left-style: solid;\n",
       "font-family: var(--jp-code-font-family);\n",
       "font-size: var(--jp-code-font-size);\n",
       "line-height: var(--jp-code-line-height);\n",
       "\"><span style=\"color: var(--jp-warn-color2)\">lsst.summit.utils.tmaUtils</span> <span style=\"color: var(--jp-warn-color0)\">WARNING</span>: No EFD data found for dayObs=20230617</pre>"
      ],
      "text/plain": [
       "<IPython.core.display.HTML object>"
      ]
     },
     "metadata": {},
     "output_type": "display_data"
    },
    {
     "data": {
      "text/html": [
       "<pre style=\"margin: 0.1em;\n",
       "padding-left: 0.25em;\n",
       "border-left-style: solid;\n",
       "font-family: var(--jp-code-font-family);\n",
       "font-size: var(--jp-code-font-size);\n",
       "line-height: var(--jp-code-line-height);\n",
       "\"><span style=\"color: var(--jp-warn-color2)\">lsst.summit.utils.tmaUtils</span> <span style=\"color: var(--jp-info-color0)\">INFO</span>: Retrieving mount data for 20230618 from the EFD</pre>"
      ],
      "text/plain": [
       "<IPython.core.display.HTML object>"
      ]
     },
     "metadata": {},
     "output_type": "display_data"
    },
    {
     "data": {
      "text/html": [
       "<pre style=\"margin: 0.1em;\n",
       "padding-left: 0.25em;\n",
       "border-left-style: solid;\n",
       "font-family: var(--jp-code-font-family);\n",
       "font-size: var(--jp-code-font-size);\n",
       "line-height: var(--jp-code-line-height);\n",
       "\"><span style=\"color: var(--jp-warn-color2)\">lsst.summit.utils.tmaUtils</span> <span style=\"color: var(--jp-warn-color0)\">WARNING</span>: No EFD data found for dayObs=20230618</pre>"
      ],
      "text/plain": [
       "<IPython.core.display.HTML object>"
      ]
     },
     "metadata": {},
     "output_type": "display_data"
    },
    {
     "data": {
      "text/html": [
       "<pre style=\"margin: 0.1em;\n",
       "padding-left: 0.25em;\n",
       "border-left-style: solid;\n",
       "font-family: var(--jp-code-font-family);\n",
       "font-size: var(--jp-code-font-size);\n",
       "line-height: var(--jp-code-line-height);\n",
       "\"><span style=\"color: var(--jp-warn-color2)\">lsst.summit.utils.tmaUtils</span> <span style=\"color: var(--jp-info-color0)\">INFO</span>: Retrieving mount data for 20230619 from the EFD</pre>"
      ],
      "text/plain": [
       "<IPython.core.display.HTML object>"
      ]
     },
     "metadata": {},
     "output_type": "display_data"
    },
    {
     "data": {
      "text/html": [
       "<pre style=\"margin: 0.1em;\n",
       "padding-left: 0.25em;\n",
       "border-left-style: solid;\n",
       "font-family: var(--jp-code-font-family);\n",
       "font-size: var(--jp-code-font-size);\n",
       "line-height: var(--jp-code-line-height);\n",
       "\"><span style=\"color: var(--jp-warn-color2)\">lsst.summit.utils.tmaUtils</span> <span style=\"color: var(--jp-info-color0)\">INFO</span>: Retrieving mount data for 20230620 from the EFD</pre>"
      ],
      "text/plain": [
       "<IPython.core.display.HTML object>"
      ]
     },
     "metadata": {},
     "output_type": "display_data"
    },
    {
     "data": {
      "text/html": [
       "<pre style=\"margin: 0.1em;\n",
       "padding-left: 0.25em;\n",
       "border-left-style: solid;\n",
       "font-family: var(--jp-code-font-family);\n",
       "font-size: var(--jp-code-font-size);\n",
       "line-height: var(--jp-code-line-height);\n",
       "\"><span style=\"color: var(--jp-warn-color2)\">lsst.summit.utils.tmaUtils</span> <span style=\"color: var(--jp-info-color0)\">INFO</span>: Retrieving mount data for 20230621 from the EFD</pre>"
      ],
      "text/plain": [
       "<IPython.core.display.HTML object>"
      ]
     },
     "metadata": {},
     "output_type": "display_data"
    },
    {
     "data": {
      "text/html": [
       "<pre style=\"margin: 0.1em;\n",
       "padding-left: 0.25em;\n",
       "border-left-style: solid;\n",
       "font-family: var(--jp-code-font-family);\n",
       "font-size: var(--jp-code-font-size);\n",
       "line-height: var(--jp-code-line-height);\n",
       "\"><span style=\"color: var(--jp-warn-color2)\">lsst.summit.utils.tmaUtils</span> <span style=\"color: var(--jp-info-color0)\">INFO</span>: Retrieving mount data for 20230622 from the EFD</pre>"
      ],
      "text/plain": [
       "<IPython.core.display.HTML object>"
      ]
     },
     "metadata": {},
     "output_type": "display_data"
    },
    {
     "data": {
      "text/html": [
       "<pre style=\"margin: 0.1em;\n",
       "padding-left: 0.25em;\n",
       "border-left-style: solid;\n",
       "font-family: var(--jp-code-font-family);\n",
       "font-size: var(--jp-code-font-size);\n",
       "line-height: var(--jp-code-line-height);\n",
       "\"><span style=\"color: var(--jp-warn-color2)\">lsst.summit.utils.tmaUtils</span> <span style=\"color: var(--jp-info-color0)\">INFO</span>: Retrieving mount data for 20230623 from the EFD</pre>"
      ],
      "text/plain": [
       "<IPython.core.display.HTML object>"
      ]
     },
     "metadata": {},
     "output_type": "display_data"
    },
    {
     "data": {
      "text/html": [
       "<pre style=\"margin: 0.1em;\n",
       "padding-left: 0.25em;\n",
       "border-left-style: solid;\n",
       "font-family: var(--jp-code-font-family);\n",
       "font-size: var(--jp-code-font-size);\n",
       "line-height: var(--jp-code-line-height);\n",
       "\"><span style=\"color: var(--jp-warn-color2)\">lsst.summit.utils.tmaUtils</span> <span style=\"color: var(--jp-info-color0)\">INFO</span>: Retrieving mount data for 20230624 from the EFD</pre>"
      ],
      "text/plain": [
       "<IPython.core.display.HTML object>"
      ]
     },
     "metadata": {},
     "output_type": "display_data"
    },
    {
     "data": {
      "text/html": [
       "<pre style=\"margin: 0.1em;\n",
       "padding-left: 0.25em;\n",
       "border-left-style: solid;\n",
       "font-family: var(--jp-code-font-family);\n",
       "font-size: var(--jp-code-font-size);\n",
       "line-height: var(--jp-code-line-height);\n",
       "\"><span style=\"color: var(--jp-warn-color2)\">lsst.summit.utils.tmaUtils</span> <span style=\"color: var(--jp-warn-color0)\">WARNING</span>: No EFD data found for dayObs=20230624</pre>"
      ],
      "text/plain": [
       "<IPython.core.display.HTML object>"
      ]
     },
     "metadata": {},
     "output_type": "display_data"
    },
    {
     "name": "stdout",
     "output_type": "stream",
     "text": [
      "Number of uninitialized blocks: 0\n",
      "Number of slew blocks: 950\n",
      "Number of stopped blocks: 0\n"
     ]
    }
   ],
   "source": [
    "un_count, stopcount, slewcount = 0, 0, 0\n",
    "new_start_array, new_end_array = (\n",
    "    [],\n",
    "    [],\n",
    ")  # These arrays hold the start and end datestamps where the telescope is not moving\n",
    "new_start_array.append(starts[0])\n",
    "for start in starts:\n",
    "    dayObs = formatToInt(start)\n",
    "    eventMaker = TMAEventMaker()\n",
    "    events = eventMaker.getEvents(dayObs)\n",
    "    for ev in events:\n",
    "        if ev.type == TMAState.SLEWING or ev.type == TMAState.TRACKING:\n",
    "            # Fetch beginning and end\n",
    "            # We want to throw out time between this period, and keep the time between blocks\n",
    "            slewcount += 1\n",
    "            new_end_array.append(ev.begin.datetime64)\n",
    "            new_start_array.append(ev.end.datetime64)\n",
    "            # print(\"We want to ditch this time range\")\n",
    "            # print(ev,end='\\n\\n')\n",
    "        elif ev.type == TMAState.UNINITIALIZED:\n",
    "            # TMA is uninitialized, this is an error (probably)\n",
    "            un_count += 1\n",
    "            # print(\"We don't know what is in this data\")\n",
    "            # print(ev,end='\\n\\n')\n",
    "        elif ev.type == TMAState.STOPPED:\n",
    "            # Take start and end of this block\n",
    "            stopcount += 1\n",
    "            # print(\"We want to use this time range\")\n",
    "            # print(ev,end='\\n\\n')\n",
    "new_end_array.append(start)\n",
    "print(\"Number of uninitialized blocks: {}\".format(un_count))\n",
    "print(\"Number of slew blocks: {}\".format(slewcount))\n",
    "print(\"Number of stopped blocks: {}\".format(stopcount))"
   ]
  },
  {
   "cell_type": "code",
   "execution_count": 10,
   "id": "2853b562-239a-4cbc-a1a0-b0c6302573eb",
   "metadata": {
    "execution": {
     "iopub.execute_input": "2024-08-12T16:36:27.008541Z",
     "iopub.status.busy": "2024-08-12T16:36:27.008409Z",
     "iopub.status.idle": "2024-08-12T16:37:25.155942Z",
     "shell.execute_reply": "2024-08-12T16:37:25.155599Z",
     "shell.execute_reply.started": "2024-08-12T16:36:27.008529Z"
    },
    "scrolled": true
   },
   "outputs": [],
   "source": [
    "all_data_az = await getDataFrame(\n",
    "    client, new_start_array, new_end_array, topic_az, fields=fields_az, verbose=verbatim\n",
    ")\n",
    "# all_data_el = await getDataFrame(client,new_start_array,new_end_array,topic_el,fields=fields_el,verbose=verbatim)"
   ]
  },
  {
   "cell_type": "code",
   "execution_count": 12,
   "id": "26766ffb-5bd0-42f2-b197-af43eee28bbc",
   "metadata": {
    "execution": {
     "iopub.execute_input": "2024-08-12T16:42:12.117687Z",
     "iopub.status.busy": "2024-08-12T16:42:12.117115Z",
     "iopub.status.idle": "2024-08-12T16:44:21.246179Z",
     "shell.execute_reply": "2024-08-12T16:44:21.245767Z",
     "shell.execute_reply.started": "2024-08-12T16:42:12.117674Z"
    }
   },
   "outputs": [
    {
     "data": {
      "image/png": "[encoded data removed]",
      "text/plain": [
       "<Figure size 1000x600 with 2 Axes>"
      ]
     },
     "metadata": {},
     "output_type": "display_data"
    }
   ],
   "source": [
    "%matplotlib inline\n",
    "figure_name = \"balancing_m1m3surr_May23_Aug23\"\n",
    "\n",
    "fig, axs = plt.subplots(1, 2, figsize=[10, 6], num=figure_name)\n",
    "axs[0].scatter(all_data_az.index, all_data_az)\n",
    "axs[0].set_ylabel(\"Torque [N m]\")\n",
    "axs[0].set_xticks(\n",
    "    np.arange(\n",
    "        np.min(all_data_az.index.tz_localize(None)),\n",
    "        np.max(all_data_az.index.tz_localize(None)),\n",
    "        step=np.timedelta64(5, \"D\"),\n",
    "    )\n",
    ")\n",
    "axs[0].set_xlim(\n",
    "    np.min(all_data_az.index.tz_localize(None)),\n",
    "    np.max(all_data_az.index.tz_localize(None)),\n",
    ")\n",
    "\n",
    "axs[1].hist(\n",
    "    all_data_az[\"actualTorque\"],\n",
    "    bins=50,\n",
    "    facecolor=\"#2ab0ff\",\n",
    "    edgecolor=\"#169acf\",\n",
    "    linewidth=0.5,\n",
    ")\n",
    "\n",
    "mu, std, p, x, xmin, xmax = fitGaussian(all_data_az[\"actualTorque\"], axs[1])\n",
    "\n",
    "axs[1].plot(\n",
    "    x,\n",
    "    p,\n",
    "    label=\"$\\mu$={:.2E}, $\\sigma$={:.2E}\".format(mu, std),\n",
    "    linewidth=2,\n",
    "    color=\"red\",\n",
    ")\n",
    "axs[1].set_ylabel(\"Counts\")\n",
    "axs[1].set_xlabel(\"Torque [N m]\")\n",
    "axs[1].legend()\n",
    "axs[1].set_xlim(xmin, xmax)\n",
    "\n",
    "for ax in axs:\n",
    "    ax.grid()\n",
    "\n",
    "fig.tight_layout()\n",
    "fig.savefig(f\"{figure_dir}/{figure_name}.jpg\", dpi=200)\n",
    "\n",
    "plt.show()\n",
    "\n",
    "# showAndClear()"
   ]
  },
  {
   "cell_type": "markdown",
   "id": "dd74ab2a-7c7a-437e-b5c8-aa9df3783fbd",
   "metadata": {},
   "source": [
    "## M1M3 Surrogate and Cell, M2 Surrogate and Cell on the TMA - Nov 2023 to Jan 2024"
   ]
  },
  {
   "cell_type": "code",
   "execution_count": null,
   "id": "f3bb53aa-7537-4c7b-b8ca-aa4e9f3fb0f9",
   "metadata": {
    "execution": {
     "iopub.status.busy": "2024-08-12T16:13:33.018559Z",
     "iopub.status.idle": "2024-08-12T16:13:33.018726Z",
     "shell.execute_reply": "2024-08-12T16:13:33.018647Z",
     "shell.execute_reply.started": "2024-08-12T16:13:33.018639Z"
    }
   },
   "outputs": [],
   "source": [
    "startPoint = np.datetime64(\"2023-11-01T12:00:00\")\n",
    "endPoint = np.datetime64(\"2024-01-01T12:00:00\")\n",
    "starts, ends = makeDateRange(startPoint, endPoint)"
   ]
  },
  {
   "cell_type": "code",
   "execution_count": null,
   "id": "8b1d5209-bedf-4482-8dca-47678c510db0",
   "metadata": {
    "execution": {
     "iopub.status.busy": "2024-08-12T16:13:33.019173Z",
     "iopub.status.idle": "2024-08-12T16:13:33.019330Z",
     "shell.execute_reply": "2024-08-12T16:13:33.019259Z",
     "shell.execute_reply.started": "2024-08-12T16:13:33.019252Z"
    }
   },
   "outputs": [],
   "source": [
    "all_data = await getDataFrame(client,starts,ends,topic,fields=fields,verbose=False)"
   ]
  },
  {
   "cell_type": "code",
   "execution_count": null,
   "id": "5b82acc2-99a6-4d72-b817-fbeb93b05881",
   "metadata": {
    "execution": {
     "iopub.status.busy": "2024-08-12T16:13:33.019980Z",
     "iopub.status.idle": "2024-08-12T16:13:33.020127Z",
     "shell.execute_reply": "2024-08-12T16:13:33.020057Z",
     "shell.execute_reply.started": "2024-08-12T16:13:33.020051Z"
    }
   },
   "outputs": [],
   "source": [
    "lolim,uplim = pd.Timestamp(\"2023-11-14\").tz_localize(\"UTC\"),pd.Timestamp(\"2023-11-25\").tz_localize(\"UTC\")\n",
    "limited_data = all_data.loc[lolim:uplim]"
   ]
  },
  {
   "cell_type": "code",
   "execution_count": null,
   "id": "30dcec2f-6c03-4411-81ad-d38692001b46",
   "metadata": {
    "execution": {
     "iopub.status.busy": "2024-08-12T16:13:33.020623Z",
     "iopub.status.idle": "2024-08-12T16:13:33.020769Z",
     "shell.execute_reply": "2024-08-12T16:13:33.020701Z",
     "shell.execute_reply.started": "2024-08-12T16:13:33.020695Z"
    }
   },
   "outputs": [],
   "source": [
    "fig,axs = plt.subplots(2,1,figsize=[10,6],sharex=True)\n",
    "for ax in axs:\n",
    "    ax.plot(limited_data.index,limited_data)\n",
    "    ax.set_ylabel(\"Torque [N m]\")\n",
    "    ax.set_xticks(np.arange(lolim,uplim,step=np.timedelta64(1,\"D\")))\n",
    "    ax.set_xlim(lolim,uplim)\n",
    "    ax.grid()\n",
    "axs[0].set_ylim(-0.4E5,0.4E5)\n",
    "axs[1].set_ylim(-0.8E4,0.8E4)\n",
    "axs[1].set_xlabel(\"Date\")\n",
    "showAndClear()"
   ]
  },
  {
   "cell_type": "markdown",
   "id": "bd8ea89f-e4a1-41f6-85f0-4481a74d7e91",
   "metadata": {},
   "source": [
    "## M2 Surrogate and Cell on the TMA - Feb to Apr 2024"
   ]
  },
  {
   "cell_type": "code",
   "execution_count": null,
   "id": "51f5313e-3694-4c84-8a01-86e71f615cb2",
   "metadata": {
    "execution": {
     "iopub.status.busy": "2024-08-12T16:13:33.021449Z",
     "iopub.status.idle": "2024-08-12T16:13:33.021599Z",
     "shell.execute_reply": "2024-08-12T16:13:33.021527Z",
     "shell.execute_reply.started": "2024-08-12T16:13:33.021520Z"
    }
   },
   "outputs": [],
   "source": [
    "startPoint = np.datetime64(\"2024-02-01T12:00:00\")\n",
    "endPoint = np.datetime64(\"2024-04-01T12:00:00\")\n",
    "starts, ends = makeDateRange(startPoint, endPoint)"
   ]
  },
  {
   "cell_type": "code",
   "execution_count": null,
   "id": "939a5bb7-9b2c-4dd5-8e3b-651cf6bf3805",
   "metadata": {
    "execution": {
     "iopub.status.busy": "2024-08-12T16:13:33.021981Z",
     "iopub.status.idle": "2024-08-12T16:13:33.022119Z",
     "shell.execute_reply": "2024-08-12T16:13:33.022054Z",
     "shell.execute_reply.started": "2024-08-12T16:13:33.022048Z"
    }
   },
   "outputs": [],
   "source": [
    "all_data = await getDataFrame(client,starts,ends,topic,fields=fields,verbose=False)"
   ]
  },
  {
   "cell_type": "code",
   "execution_count": null,
   "id": "e6efe73b-a5de-4c97-917c-548e5e5b4bcf",
   "metadata": {
    "execution": {
     "iopub.status.busy": "2024-08-12T16:13:33.022593Z",
     "iopub.status.idle": "2024-08-12T16:13:33.022739Z",
     "shell.execute_reply": "2024-08-12T16:13:33.022667Z",
     "shell.execute_reply.started": "2024-08-12T16:13:33.022661Z"
    }
   },
   "outputs": [],
   "source": [
    "lolim,uplim = pd.Timestamp(\"2024-02-05\").tz_localize(\"UTC\"),pd.Timestamp(\"2024-02-15\").tz_localize(\"UTC\")\n",
    "limited_data = all_data.loc[lolim:uplim]"
   ]
  },
  {
   "cell_type": "code",
   "execution_count": null,
   "id": "5871c1c3-8c6d-43c5-bb00-0a3425860088",
   "metadata": {
    "execution": {
     "iopub.status.busy": "2024-08-12T16:13:33.023301Z",
     "iopub.status.idle": "2024-08-12T16:13:33.023450Z",
     "shell.execute_reply": "2024-08-12T16:13:33.023379Z",
     "shell.execute_reply.started": "2024-08-12T16:13:33.023373Z"
    }
   },
   "outputs": [],
   "source": [
    "fig,axs = plt.subplots(2,1,figsize=[10,6],sharex=True)\n",
    "for ax in axs:\n",
    "    ax.plot(limited_data.index,limited_data)\n",
    "    ax.set_ylabel(\"Torque [N m]\")\n",
    "    ax.set_xticks(np.arange(lolim,uplim,step=np.timedelta64(2,\"D\")))\n",
    "    ax.set_xlim(lolim,uplim)\n",
    "    ax.grid()\n",
    "axs[0].set_ylim(-2E5,2E5)\n",
    "axs[1].set_ylim(-0.8E2,0.8E2)\n",
    "axs[1].set_xlabel(\"Date\")\n",
    "showAndClear()"
   ]
  },
  {
   "cell_type": "code",
   "execution_count": null,
   "id": "86545d02-590c-4043-a192-bc6149654b6b",
   "metadata": {},
   "outputs": [],
   "source": []
  },
  {
   "cell_type": "code",
   "execution_count": null,
   "id": "a027c5f8-b56a-40a7-8323-2a9a4f95074d",
   "metadata": {},
   "outputs": [],
   "source": []
  }
 ],
 "metadata": {
  "kernelspec": {
   "display_name": "LSST",
   "language": "python",
   "name": "lsst"
  },
  "language_info": {
   "codemirror_mode": {
    "name": "ipython",
    "version": 3
   },
   "file_extension": ".py",
   "mimetype": "text/x-python",
   "name": "python",
   "nbconvert_exporter": "python",
   "pygments_lexer": "ipython3",
   "version": "3.11.7"
  }
 },
 "nbformat": 4,
 "nbformat_minor": 5
}
